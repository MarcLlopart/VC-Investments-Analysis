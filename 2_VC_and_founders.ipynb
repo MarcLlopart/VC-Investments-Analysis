{
 "cells": [
  {
   "cell_type": "code",
   "execution_count": 1,
   "metadata": {},
   "outputs": [
    {
     "name": "stderr",
     "output_type": "stream",
     "text": [
      "c:\\Users\\pc\\Anaconda3\\lib\\site-packages\\pandas\\core\\computation\\expressions.py:21: UserWarning: Pandas requires version '2.8.4' or newer of 'numexpr' (version '2.7.3' currently installed).\n",
      "  from pandas.core.computation.check import NUMEXPR_INSTALLED\n",
      "c:\\Users\\pc\\Anaconda3\\lib\\site-packages\\pandas\\core\\arrays\\masked.py:60: UserWarning: Pandas requires version '1.3.6' or newer of 'bottleneck' (version '1.3.2' currently installed).\n",
      "  from pandas.core import (\n"
     ]
    }
   ],
   "source": [
    "import pandas as pd\n",
    "import numpy as np\n",
    "import warnings\n",
    "\n",
    "#Plotly Libraris\n",
    "import plotly.express as px\n",
    "import plotly.graph_objects as go\n",
    "import plotly.figure_factory as ff\n",
    "from plotly.colors import n_colors\n",
    "from plotly.subplots import make_subplots\n",
    "import plotly.io as pio\n",
    "\n",
    "warnings.filterwarnings('ignore')\n",
    "\n",
    "pio.templates.default = \"ggplot2\"\n",
    "\n",
    "#dataframe display settings\n",
    "pd.set_option('display.max_columns', 5000000)\n",
    "pd.set_option('display.max_rows', 50000000)"
   ]
  },
  {
   "cell_type": "code",
   "execution_count": null,
   "metadata": {},
   "outputs": [],
   "source": [
    "# LOAD DATA\n",
    "## Data from dataset 1\n",
    "acquisitions = pd.read_csv('data/acquisitions.csv')\n",
    "funding_rounds = pd.read_csv('data/funding_rounds.csv')\n",
    "funds = pd.read_csv('data/funds.csv')\n",
    "investments = pd.read_csv('data/investments.csv')\n",
    "ipos = pd.read_csv('data/ipos.csv')\n",
    "milestones = pd.read_csv('data/milestones.csv')\n",
    "objects = pd.read_csv('data/objects.csv')\n",
    "offices = pd.read_csv('data/offices.csv')\n",
    "people = pd.read_csv('data/people.csv')\n",
    "relationships = pd.read_csv('data/relationships.csv')\n",
    "\n",
    "## Data from dataset 2\n",
    "founders = pd.read_csv('data/dataset2.csv')\n"
   ]
  }
 ],
 "metadata": {
  "kernelspec": {
   "display_name": "base",
   "language": "python",
   "name": "python3"
  },
  "language_info": {
   "codemirror_mode": {
    "name": "ipython",
    "version": 3
   },
   "file_extension": ".py",
   "mimetype": "text/x-python",
   "name": "python",
   "nbconvert_exporter": "python",
   "pygments_lexer": "ipython3",
   "version": "3.9.7"
  }
 },
 "nbformat": 4,
 "nbformat_minor": 2
}
